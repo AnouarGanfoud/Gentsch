{
 "cells": [
  {
   "cell_type": "markdown",
   "metadata": {},
   "source": [
    "# Catch crop diversity increases rhizosphere carbon input and soil microbial biomass\n",
    "\n",
    "Norman Gentsch, Jens Boy, Juan Daniel Kennedy Batalla, Diana Heuermann, Nicolaus von Wirén, Dörte Schweneker, Ulf Feuerstein, Jonas Groß, Bernahrd Bauer, Barbara Reinhold-Hurek, Thomas Hurek, Fabricio Camacho Céspedes, Georg Guggenberger\n",
    "\n",
    "Published: 2020-05-23\n",
    "\n",
    "## Abstract\n",
    "## Introduction\n",
    "## Material and methods\n",
    "## Results\n",
    "## PLANT BIOMASS AND NET ECOSYSTEM EXCHANGE\n",
    "The NEE decreased significantly with increasing catch crop diversity (Fig. 1), suggesting increasing $CO_2$-C uptake from the atmosphere.\n"
   ]
  },
  {
   "cell_type": "code",
   "execution_count": 29,
   "metadata": {
    "slideshow": {
     "slide_type": "fragment"
    },
    "tags": [
     "hide-input"
    ]
   },
   "outputs": [
    {
     "data": {
      "image/png": "[encoded data removed]",
      "text/plain": [
       "plot without title"
      ]
     },
     "metadata": {},
     "output_type": "display_data"
    }
   ],
   "source": [
    "# written with R version 4.0.2 (2020-06-22) -- \"Taking Off Again\"\n",
    "##------ Tue Oct 13 11:53:48 2020 ------##\n",
    "# by Norman Gentsch\n",
    "\n",
    "library(tidyverse)\n",
    "library(lme4)\n",
    "library(emmeans)\n",
    "library(multcomp)\n",
    "\n",
    "# set theme for ggplot\n",
    "theme_set(theme_bw())\n",
    "theme_myBW <- theme(axis.title.x = element_text(size = 10, color = \"black\"), \n",
    "                    axis.title.y = element_text(angle = 90, vjust = 1.5, size = 10, color = \"black\"),\n",
    "                    axis.text.x = element_text(size = 10, color = \"black\"), \n",
    "                    axis.text.y = element_text(size = 10, color = \"black\"), \n",
    "                    axis.ticks =element_line(colour=\"black\"),\n",
    "                    strip.text.x = element_text(size = 10, color = \"black\"),\n",
    "                    strip.background = element_blank(),\n",
    "                    panel.border =element_rect(colour=\"black\", fill=NA), \n",
    "                    panel.grid.major = element_blank(),\n",
    "                    panel.grid.minor = element_blank(),\n",
    "                    plot.title = element_text(size = 12, hjust=0.5),\n",
    "                    #legend.position=c(0.0,1.0), \n",
    "                    #legend.justification=c(0,1), \n",
    "                    legend.text = element_text(size = 10),\n",
    "                    legend.text.align=0,\n",
    "                    legend.title =  element_text(size = 10), \n",
    "                    legend.key = element_rect(colour=\"white\", fill = \"white\"),\n",
    "                    legend.key.size = unit(5, \"mm\"),\n",
    "                    legend.background = element_blank())\n",
    "\n",
    "\n",
    "# set vector with colors and label\n",
    "COL <- c(\"Fallow\" = \"slategray\", \"Mustard\" = \"red3\" , \"Mix4\" = \"orchid3\", \"Mix12\"= \"orange4\")\n",
    "SHP <- c(\"Fallow\"=21,\"Mustard\"=22,\"Mix4\"=23, \"Mix12\"=24)\n",
    "\n",
    "\n",
    "# generate data frame with original data\n",
    "data <- data.frame(cc_variant = structure(c(1L, 1L, 1L, 3L, 4L, 2L, 3L, 4L, 2L, 2L, 4L, 3L), .Label = c(\"Fallow\", \"Mustard\", \"Mix4\", \"Mix12\"), class = \"factor\"),\n",
    "                   Date = structure(c(17092, 17093, 17098, 17092, 17092, 17092, 17093, 17093, 17093, 17098, 17098, 17098), class = \"Date\"),\n",
    "                   NEE = c(52.3186092, 36.752742, 34.590816, -516.868370737168, -617.110003978854, -182.24567563611, -102.63776100067, -431.558870280712, -139.041211720174, -114.099387563412, -400.212603947375, -175.332083704246)\n",
    ")\n",
    "\n",
    "\n",
    "lm_NEE <- lmer(NEE ~ cc_variant + (1|Date), data=data)\n",
    "df_NEE <- cld(emmeans(lm_NEE, specs =\"cc_variant\"), Letters=letters, sort=FALSE)\n",
    "\n",
    "# summary table for \n",
    "sum.lm <- glht(lm_NEE, linfct = mcp(cc_variant = \"Tukey\"))\n",
    "summary(sum.lm)$test$pvalue\n",
    "\n",
    "\n",
    "glht.table <- function(x) {\n",
    "  pq <- summary(x)$test\n",
    "  mtests <- cbind(pq$coefficients, pq$sigma, pq$tstat, pq$pvalues)\n",
    "  colnames(mtests) <- c(\"Estimate\", \"Std Error\", \"z value\", \"p value\")\n",
    "  return(mtests)\n",
    "  }\n",
    "\n",
    "df.summary <- data.frame(glht.table(sum.lm))\n",
    "df.summary\n",
    "\n",
    "\n",
    "\n",
    "# Plot for BFS\n",
    "ggplot(data, aes(x= cc_variant, y=NEE, fill= cc_variant))+\n",
    "  geom_boxplot()+\n",
    "  scale_fill_manual(values = COL, guide=FALSE)+\n",
    "  geom_text(data= df_NEE ,aes(y=-600,x=cc_variant, label=.group))+\n",
    "  labs(x=\"Catch crop variant\",  y=expression(\"NEE (mg CO\"[2]~\"- C\"~m^{-2}~h^{-1}~\")\"), fill=\"\")+\n",
    "  theme_myBW\n",
    "\n",
    "ggsave(\"Fig1.png\", width = 84, height = 70, units = \"mm\", dpi = 600)\n",
    "\n",
    "\n",
    "\n",
    "summary(lm_NEE)\n"
   ]
  },
  {
   "cell_type": "markdown",
   "metadata": {},
   "source": [
    "## Discussion\n",
    "### NEE IS LINKED TO PLANT DIVERSITY\n",
    "... The NEE in our study showed a remarkably strong negative gradient from mustard to mix 4 to mix 12 (Fig. 1), which suggested higher photosynthetic \n",
    "$CO_2$-C fixation rates with increasing catch crop diversity.\n",
    "\n",
    "## Conclusion\n",
    "## References"
   ]
  }
 ],
 "metadata": {
  "celltoolbar": "Edit Metadata",
  "kernelspec": {
   "display_name": "R",
   "language": "R",
   "name": "ir"
  },
  "language_info": {
   "codemirror_mode": "r",
   "file_extension": ".r",
   "mimetype": "text/x-r-source",
   "name": "R",
   "pygments_lexer": "r",
   "version": "3.6.1"
  }
 },
 "nbformat": 4,
 "nbformat_minor": 4
}
