{
 "cells": [
  {
   "cell_type": "markdown",
   "metadata": {},
   "source": [
    "# Catch crop diversity increases rhizosphere carbon input and soil microbial biomass\n",
    "\n",
    "Norman Gentsch, Jens Boy, Juan Daniel Kennedy Batalla, Diana Heuermann, Nicolaus von Wirén, Dörte Schweneker, Ulf Feuerstein, Jonas Groß, Bernahrd Bauer, Barbara Reinhold-Hurek, Thomas Hurek, Fabricio Camacho Céspedes, Georg Guggenberger\n",
    "\n",
    "Published: 2020-05-23\n",
    "\n",
    "## Abstract\n",
    "## Introduction\n",
    "## Material and methods\n",
    "## Results\n",
    "## PLANT BIOMASS AND NET ECOSYSTEM EXCHANGE\n",
    "The NEE decreased significantly with increasing catch crop diversity (Fig. 1), suggesting increasing $CO_2$-C uptake from the atmosphere.\n"
   ]
  },
  {
   "cell_type": "code",
   "execution_count": 30,
   "metadata": {
    "slideshow": {
     "slide_type": "fragment"
    },
    "tags": [
     "hide-input"
    ]
   },
   "outputs": [
    {
     "data": {
      "text/html": [
       "<ol class=list-inline>\n",
       "\t<li>0.121341184978512</li>\n",
       "\t<li>0.00167407679685239</li>\n",
       "\t<li>1.13620262087721e-08</li>\n",
       "\t<li>0.487368454921183</li>\n",
       "\t<li>0.000352205851698706</li>\n",
       "\t<li>0.0482494914111601</li>\n",
       "</ol>\n"
      ],
      "text/latex": [
       "\\begin{enumerate*}\n",
       "\\item 0.121341184978512\n",
       "\\item 0.00167407679685239\n",
       "\\item 1.13620262087721e-08\n",
       "\\item 0.487368454921183\n",
       "\\item 0.000352205851698706\n",
       "\\item 0.0482494914111601\n",
       "\\end{enumerate*}\n"
      ],
      "text/markdown": [
       "1. 0.121341184978512\n",
       "2. 0.00167407679685239\n",
       "3. 1.13620262087721e-08\n",
       "4. 0.487368454921183\n",
       "5. 0.000352205851698706\n",
       "6. 0.0482494914111601\n",
       "\n",
       "\n"
      ],
      "text/plain": [
       "[1] 1.213412e-01 1.674077e-03 1.136203e-08 4.873685e-01 3.522059e-04\n",
       "[6] 4.824949e-02\n",
       "attr(,\"error\")\n",
       "[1] 0.0006776355"
      ]
     },
     "metadata": {},
     "output_type": "display_data"
    },
    {
     "data": {
      "text/html": [
       "<table>\n",
       "<thead><tr><th></th><th scope=col>Estimate</th><th scope=col>Std.Error</th><th scope=col>z.value</th><th scope=col>p.value</th></tr></thead>\n",
       "<tbody>\n",
       "\t<tr><th scope=row>Mustard - Fallow</th><td>-186.3495   </td><td>84.43544    </td><td>-2.207006   </td><td>1.211704e-01</td></tr>\n",
       "\t<tr><th scope=row>Mix4 - Fallow</th><td>-306.1668   </td><td>84.43544    </td><td>-3.626046   </td><td>1.721880e-03</td></tr>\n",
       "\t<tr><th scope=row>Mix12 - Fallow</th><td>-524.1812   </td><td>84.43544    </td><td>-6.208071   </td><td>1.395214e-09</td></tr>\n",
       "\t<tr><th scope=row>Mix4 - Mustard</th><td>-119.8173   </td><td>84.43544    </td><td>-1.419041   </td><td>4.873424e-01</td></tr>\n",
       "\t<tr><th scope=row>Mix12 - Mustard</th><td>-337.8317   </td><td>84.43544    </td><td>-4.001066   </td><td>4.124943e-04</td></tr>\n",
       "\t<tr><th scope=row>Mix12 - Mix4</th><td>-218.0144   </td><td>84.43544    </td><td>-2.582025   </td><td>4.819058e-02</td></tr>\n",
       "</tbody>\n",
       "</table>\n"
      ],
      "text/latex": [
       "\\begin{tabular}{r|llll}\n",
       "  & Estimate & Std.Error & z.value & p.value\\\\\n",
       "\\hline\n",
       "\tMustard - Fallow & -186.3495    & 84.43544     & -2.207006    & 1.211704e-01\\\\\n",
       "\tMix4 - Fallow & -306.1668    & 84.43544     & -3.626046    & 1.721880e-03\\\\\n",
       "\tMix12 - Fallow & -524.1812    & 84.43544     & -6.208071    & 1.395214e-09\\\\\n",
       "\tMix4 - Mustard & -119.8173    & 84.43544     & -1.419041    & 4.873424e-01\\\\\n",
       "\tMix12 - Mustard & -337.8317    & 84.43544     & -4.001066    & 4.124943e-04\\\\\n",
       "\tMix12 - Mix4 & -218.0144    & 84.43544     & -2.582025    & 4.819058e-02\\\\\n",
       "\\end{tabular}\n"
      ],
      "text/markdown": [
       "\n",
       "| <!--/--> | Estimate | Std.Error | z.value | p.value |\n",
       "|---|---|---|---|---|\n",
       "| Mustard - Fallow | -186.3495    | 84.43544     | -2.207006    | 1.211704e-01 |\n",
       "| Mix4 - Fallow | -306.1668    | 84.43544     | -3.626046    | 1.721880e-03 |\n",
       "| Mix12 - Fallow | -524.1812    | 84.43544     | -6.208071    | 1.395214e-09 |\n",
       "| Mix4 - Mustard | -119.8173    | 84.43544     | -1.419041    | 4.873424e-01 |\n",
       "| Mix12 - Mustard | -337.8317    | 84.43544     | -4.001066    | 4.124943e-04 |\n",
       "| Mix12 - Mix4 | -218.0144    | 84.43544     | -2.582025    | 4.819058e-02 |\n",
       "\n"
      ],
      "text/plain": [
       "                 Estimate  Std.Error z.value   p.value     \n",
       "Mustard - Fallow -186.3495 84.43544  -2.207006 1.211704e-01\n",
       "Mix4 - Fallow    -306.1668 84.43544  -3.626046 1.721880e-03\n",
       "Mix12 - Fallow   -524.1812 84.43544  -6.208071 1.395214e-09\n",
       "Mix4 - Mustard   -119.8173 84.43544  -1.419041 4.873424e-01\n",
       "Mix12 - Mustard  -337.8317 84.43544  -4.001066 4.124943e-04\n",
       "Mix12 - Mix4     -218.0144 84.43544  -2.582025 4.819058e-02"
      ]
     },
     "metadata": {},
     "output_type": "display_data"
    },
    {
     "data": {
      "text/plain": [
       "Linear mixed model fit by REML ['lmerMod']\n",
       "Formula: NEE ~ cc_variant + (1 | Date)\n",
       "   Data: data\n",
       "\n",
       "REML criterion at convergence: 103.5\n",
       "\n",
       "Scaled residuals: \n",
       "     Min       1Q   Median       3Q      Max \n",
       "-1.77423 -0.38237  0.06762  0.50075  1.22368 \n",
       "\n",
       "Random effects:\n",
       " Groups   Name        Variance Std.Dev.\n",
       " Date     (Intercept)  5292     72.75  \n",
       " Residual             10694    103.41  \n",
       "Number of obs: 12, groups:  Date, 3\n",
       "\n",
       "Fixed effects:\n",
       "                  Estimate Std. Error t value\n",
       "(Intercept)          41.22      73.00   0.565\n",
       "cc_variantMustard  -186.35      84.44  -2.207\n",
       "cc_variantMix4     -306.17      84.44  -3.626\n",
       "cc_variantMix12    -524.18      84.44  -6.208\n",
       "\n",
       "Correlation of Fixed Effects:\n",
       "            (Intr) cc_vrM cc_vM4\n",
       "cc_vrntMstr -0.578              \n",
       "cc_varntMx4 -0.578  0.500       \n",
       "cc_vrntMx12 -0.578  0.500  0.500"
      ]
     },
     "metadata": {},
     "output_type": "display_data"
    },
    {
     "data": {
      "image/png": "[encoded data removed]",
      "text/plain": [
       "plot without title"
      ]
     },
     "metadata": {},
     "output_type": "display_data"
    }
   ],
   "source": [
    "# written with R version 4.0.2 (2020-06-22) -- \"Taking Off Again\"\n",
    "##------ Tue Oct 13 11:53:48 2020 ------##\n",
    "# by Norman Gentsch\n",
    "\n",
    "library(tidyverse)\n",
    "library(lme4)\n",
    "library(emmeans)\n",
    "library(multcomp)\n",
    "\n",
    "# set theme for ggplot\n",
    "theme_set(theme_bw())\n",
    "theme_myBW <- theme(axis.title.x = element_text(size = 10, color = \"black\"), \n",
    "                    axis.title.y = element_text(angle = 90, vjust = 1.5, size = 10, color = \"black\"),\n",
    "                    axis.text.x = element_text(size = 10, color = \"black\"), \n",
    "                    axis.text.y = element_text(size = 10, color = \"black\"), \n",
    "                    axis.ticks =element_line(colour=\"black\"),\n",
    "                    strip.text.x = element_text(size = 10, color = \"black\"),\n",
    "                    strip.background = element_blank(),\n",
    "                    panel.border =element_rect(colour=\"black\", fill=NA), \n",
    "                    panel.grid.major = element_blank(),\n",
    "                    panel.grid.minor = element_blank(),\n",
    "                    plot.title = element_text(size = 12, hjust=0.5),\n",
    "                    #legend.position=c(0.0,1.0), \n",
    "                    #legend.justification=c(0,1), \n",
    "                    legend.text = element_text(size = 10),\n",
    "                    legend.text.align=0,\n",
    "                    legend.title =  element_text(size = 10), \n",
    "                    legend.key = element_rect(colour=\"white\", fill = \"white\"),\n",
    "                    legend.key.size = unit(5, \"mm\"),\n",
    "                    legend.background = element_blank())\n",
    "\n",
    "\n",
    "# set vector with colors and label\n",
    "COL <- c(\"Fallow\" = \"slategray\", \"Mustard\" = \"red3\" , \"Mix4\" = \"orchid3\", \"Mix12\"= \"orange4\")\n",
    "SHP <- c(\"Fallow\"=21,\"Mustard\"=22,\"Mix4\"=23, \"Mix12\"=24)\n",
    "\n",
    "\n",
    "# generate data frame with original data\n",
    "data <- data.frame(cc_variant = structure(c(1L, 1L, 1L, 3L, 4L, 2L, 3L, 4L, 2L, 2L, 4L, 3L), .Label = c(\"Fallow\", \"Mustard\", \"Mix4\", \"Mix12\"), class = \"factor\"),\n",
    "                   Date = structure(c(17092, 17093, 17098, 17092, 17092, 17092, 17093, 17093, 17093, 17098, 17098, 17098), class = \"Date\"),\n",
    "                   NEE = c(52.3186092, 36.752742, 34.590816, -516.868370737168, -617.110003978854, -182.24567563611, -102.63776100067, -431.558870280712, -139.041211720174, -114.099387563412, -400.212603947375, -175.332083704246)\n",
    ")\n",
    "\n",
    "\n",
    "lm_NEE <- lmer(NEE ~ cc_variant + (1|Date), data=data)\n",
    "df_NEE <- cld(emmeans(lm_NEE, specs =\"cc_variant\"), Letters=letters, sort=FALSE)\n",
    "\n",
    "# summary table for \n",
    "sum.lm <- glht(lm_NEE, linfct = mcp(cc_variant = \"Tukey\"))\n",
    "summary(sum.lm)$test$pvalue\n",
    "\n",
    "\n",
    "glht.table <- function(x) {\n",
    "  pq <- summary(x)$test\n",
    "  mtests <- cbind(pq$coefficients, pq$sigma, pq$tstat, pq$pvalues)\n",
    "  colnames(mtests) <- c(\"Estimate\", \"Std Error\", \"z value\", \"p value\")\n",
    "  return(mtests)\n",
    "  }\n",
    "\n",
    "df.summary <- data.frame(glht.table(sum.lm))\n",
    "df.summary\n",
    "\n",
    "\n",
    "\n",
    "# Plot for BFS\n",
    "ggplot(data, aes(x= cc_variant, y=NEE, fill= cc_variant))+\n",
    "  geom_boxplot()+\n",
    "  scale_fill_manual(values = COL, guide=FALSE)+\n",
    "  geom_text(data= df_NEE ,aes(y=-600,x=cc_variant, label=.group))+\n",
    "  labs(x=\"Catch crop variant\",  y=expression(\"NEE (mg CO\"[2]~\"- C\"~m^{-2}~h^{-1}~\")\"), fill=\"\")+\n",
    "  theme_myBW\n",
    "\n",
    "ggsave(\"Fig1.png\", width = 84, height = 70, units = \"mm\", dpi = 600)\n",
    "\n",
    "\n",
    "\n",
    "summary(lm_NEE)\n"
   ]
  },
  {
   "cell_type": "markdown",
   "metadata": {},
   "source": [
    "## Discussion\n",
    "### NEE IS LINKED TO PLANT DIVERSITY\n",
    "... The NEE in our study showed a remarkably strong negative gradient from mustard to mix 4 to mix 12 (Fig. 1), which suggested higher photosynthetic \n",
    "$CO_2$-C fixation rates with increasing catch crop diversity.\n",
    "\n",
    "## Conclusion\n",
    "## References"
   ]
  }
 ],
 "metadata": {
  "celltoolbar": "Edit Metadata",
  "kernelspec": {
   "display_name": "R",
   "language": "R",
   "name": "ir"
  },
  "language_info": {
   "codemirror_mode": "r",
   "file_extension": ".r",
   "mimetype": "text/x-r-source",
   "name": "R",
   "pygments_lexer": "r",
   "version": "3.6.1"
  }
 },
 "nbformat": 4,
 "nbformat_minor": 4
}
